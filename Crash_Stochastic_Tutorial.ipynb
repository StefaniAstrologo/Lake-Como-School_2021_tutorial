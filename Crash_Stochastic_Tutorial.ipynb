{
 "cells": [
  {
   "cell_type": "markdown",
   "id": "9a66daeb-c8ca-45e1-b757-9819a1060b9b",
   "metadata": {},
   "source": [
    "## Short tutorial on stochastic processes - from Brownian motion to transcriptional bursting.\n",
    "\n",
    ">_\"Life is a study in contrasts between **randomness** and **determinism**: from the chaos of biomolecular interactions to the precise coordination of development, living organisms are able to resolve these two seemingly contradictory aspects of their internal workings.\"_\n",
    ">\n",
    ">[Raj & van Oudenaarden, 2008](https://www.sciencedirect.com/science/article/pii/S0092867408012439?via%3Dihub)"
   ]
  },
  {
   "cell_type": "markdown",
   "id": "2c1b8ea6-92ae-44ad-9bc1-7a092d2578c3",
   "metadata": {},
   "source": [
    "<img src=\"https://www.insidescience.org/sites/default/files/2020-06/machine-rng.jpg\"/>"
   ]
  },
  {
   "cell_type": "markdown",
   "id": "72845529-57a6-45a4-aef7-097a776ff40a",
   "metadata": {},
   "source": [
    "### Table of Contents\n",
    "\n",
    "* [Part I:](#partI)\n",
    "    * [Brownian motion as paradigm of stochastic processes](#section_1_1)\n",
    "    * [Let's simulate it](#section_1_2)\n",
    "    * [Deterministic vs Stochastic mathematical model](#section_1_3)\n",
    "    * [Moments of a Poisson Distribution](#section_1_4)\n",
    "    * [Things you should remember of the Poisson Distribution.](#section_1_5)\n",
    "    \n",
    "\n",
    "* [Part II:](#partII)\n",
    "    * [Everything is stochastic, but what are the stochastic events that really matter?](#section_2_1)\n",
    "    * [Minimal Bursting model: Analystical solution](#section_2_2)\n",
    "    * [Minimal Bursting model: Numerical solution (Deterministic - ODE)](#section_2_3)\n",
    "    * [Minimal Bursting model: Numerical solution (Stochastic - Gillespie)](#section_2_4)\n",
    "    * [Take Home Message(s)](#section_2_5)"
   ]
  },
  {
   "cell_type": "markdown",
   "id": "4fbe9404-a841-4133-bb71-0cb5557ad490",
   "metadata": {},
   "source": [
    "## Part I <a class=\"anchor\" id=\"partI\"></a>\n",
    "\n",
    "#### Brownian motion as paradigm of stochastic processes <a class=\"anchor\" id=\"section_1_1\"></a>"
   ]
  },
  {
   "cell_type": "markdown",
   "id": "593d785e-fa88-4019-8c2d-2abf6ecb8bc0",
   "metadata": {},
   "source": [
    "The discovery of [**Brownian motion**](https://en.wikipedia.org/wiki/Brownian_motion) predates the development of **statistical mechanics** and provided important insight to physicists of the early twentieth century in their first formulations of an atomic description of matter.\n",
    "\n",
    "<img src=\"Figures/Brownianmotion.gif\" style=\"width: 300px;float: right;\" />\n",
    "\n",
    "\n",
    "Brownian motion was discovered somewhat _serendipitously_ in **1828** by botanist **Robert Brown** while he was studying pollen under a microscope. Though many others before him had observed the jittery, random motion of fine particles in a fluid, Brown was the first to catalogue his observations and use them to test hypotheses about the nature of the motion.\n",
    "\n",
    "The first theoretical explanation of the Brownian motion was given by **A. Einstein** in **1905** who had the idea to look at the problem from a probabilistic point of view by discarding all the microscopic details. \n",
    "\n",
    "He interpreted the Brownian motion as coming from the motion of a mesoscopic particle that discontinuously experiences random collisions with the (much smaller and thereby invisible) particles of the surrounding fluid.\n",
    "\n",
    "Since then the Brownian Motion has become the _paradigm_ of a large class of [stochastic processes](https://www.sciencedirect.com/topics/agricultural-and-biological-sciences/stochastic-processes) and more generally to the statistical mechanics of non-equilibrium."
   ]
  },
  {
   "cell_type": "markdown",
   "id": "19a19813-03fb-4b3b-9c29-929b7d67a526",
   "metadata": {},
   "source": [
    "### Let's simulate it <a class=\"anchor\" id=\"section_1_2\"></a>"
   ]
  },
  {
   "cell_type": "markdown",
   "id": "bad8c05c-75ce-4154-822d-849d5959b55e",
   "metadata": {},
   "source": [
    "**Below** you can find a model to make a stochastic simulation of Brownian motions.\n",
    "\n",
    "A **\"for loop\"** is used in order to repeat a number of time the simulation!\n",
    "\n",
    "> 1) **Change** the number of loops (in the cell below) and observe the result of multiple simulation using the same combination of parameters.\n",
    "> \n",
    "> 2) **Observe** the different plots"
   ]
  },
  {
   "cell_type": "code",
   "execution_count": 52,
   "id": "e2532efe-42f2-4e74-9c18-ff73927bd436",
   "metadata": {},
   "outputs": [
    {
     "name": "stdout",
     "output_type": "stream",
     "text": [
      "The autoreload extension is already loaded. To reload it, use:\n",
      "  %reload_ext autoreload\n",
      "Packages are loaded ...\n"
     ]
    }
   ],
   "source": [
    "%load_ext autoreload\n",
    "%autoreload 2\n",
    "\n",
    "import pandas as pd\n",
    "import numpy as np\n",
    "import seaborn as sns\n",
    "import matplotlib.pyplot as plt # package to make plot\n",
    "%matplotlib inline\n",
    "\n",
    "from utils import plotting_tools as pt\n",
    "from utils.brownian_function import brownian\n",
    "\n",
    "print('Packages are loaded ...')"
   ]
  },
  {
   "cell_type": "code",
   "execution_count": null,
   "id": "d6b09f16-9837-4fb5-975b-a52c42bad8d8",
   "metadata": {},
   "outputs": [],
   "source": [
    "B_params = {\n",
    "    'n_loops':20, # <--- HERE change the number of loops e.g. 2,6,10,20\n",
    "    \n",
    "    # The Wiener process parameter.\n",
    "    'delta':0.25, #It determins the speed of th process\n",
    "    'T' : 10.0, # Total time.\n",
    "    'N' : 500, # Number of steps\n",
    "}\n",
    "\n",
    "B_params['dt'] = B_params['T'] / B_params['N'] # Time step size\n",
    "B_params['x'] =  np.empty((2,B_params['N']+1)) # Initial values of x.\n",
    "B_params['x'][:, 0] = 0.0  \n",
    "\n",
    "pt.plot_loop_subplot(x=B_params['x'], b_params=B_params, \n",
    "                     savein=\"Brownian_motion_black.png\")"
   ]
  },
  {
   "cell_type": "markdown",
   "id": "cad39194-5f86-4e0b-a85a-c0e4e75c1640",
   "metadata": {},
   "source": [
    "> Could you **reproduce** the same result (plot) at least twice?\n",
    "#### This brings up the question ... how does stochastic simulation work?\n",
    "#### What is the **magic** in it?\n",
    "\n",
    "\n",
    "> --> At the core of every stochastic simulation there is a [**random number generator**](https://en.wikipedia.org/wiki/Random_number_generation).\n",
    "\n",
    "<img src=\"Figures/dilbert.jpg\"/>\n",
    "\n",
    "> 3. **Run** the cell below more than 1 time ( **shift+enter**). \n",
    ">In each \"for loop\" the function **np.random.randint()** draws a new (pseudo)random number between 1 & 1000"
   ]
  },
  {
   "cell_type": "code",
   "execution_count": null,
   "id": "0f36a1c8-c7fc-4b8e-905c-857cf1cf0e2d",
   "metadata": {},
   "outputs": [],
   "source": [
    "n_loops = 10\n",
    "for i in range(n_loops): \n",
    "    \n",
    "    # Generated random number will be between 1 to 1000.\n",
    "    print(np.random.randint(1, 1000)) "
   ]
  },
  {
   "cell_type": "markdown",
   "id": "98e2dbb3-164c-4933-a80b-1abb0168bbb5",
   "metadata": {},
   "source": [
    "> 4. In the cell below paste the same code of the previous cell.\n",
    ">\n",
    ">    Add INSIDE the loop (remember to indent with using the **tab** key) the following line:\n",
    "     **np.random.seed(42)** \n",
    "\n",
    "This will allow you to fix the seed of the random number generator and therefore to **reproduce** the same random number!\n",
    "*********\n",
    "This is very important if you want to make your stochastic simulation <span a style=\"color:blue\">reproducible</span>, which is useful if not essential when checking whether your code does what you want it to do. \n",
    " "
   ]
  },
  {
   "cell_type": "code",
   "execution_count": 32,
   "id": "6489e05c-303a-4fde-b37b-519e010bc91d",
   "metadata": {},
   "outputs": [],
   "source": [
    "# HERE paste the code \n",
    "\n",
    "\n",
    "\n",
    "\n"
   ]
  },
  {
   "cell_type": "markdown",
   "id": "bc8cd596-b021-4e65-8e79-368a0221d89d",
   "metadata": {},
   "source": [
    "\n",
    "\n",
    "Every molecular event in the cell is the result of **random** encounters between molecules, \n",
    "some of which are present in **small numbers**, therefore the biochemical processes that regulate transcription initiation are inherently **stochastic**\".\n",
    "\n",
    "Before the **single cell era**, classic molecular biology could consider just **average measuremnts (_aka bulk_)**.\n",
    "\n",
    "Average & population (probabilistic) behavior **can be modelled**, respectively with:\n",
    "#### <span a style=\"color:blue\">**Deterministic** </span> vs <span a style=\"color:green\">**Stochastic** </span> mathematical models. <a class=\"anchor\" id=\"section_1_3\"></a>\n",
    "The following are the main difference between the two."
   ]
  },
  {
   "cell_type": "markdown",
   "id": "df3d58d4-af91-48c1-951e-a8dd70c19851",
   "metadata": {},
   "source": [
    "\n",
    "><span a style=\"color:blue\">**Odinary differential equations (ODEs)** </span>\n",
    ">\n",
    "><span a style=\"color:green\">**Master equation** </span>\n",
    "> *****\n",
    "><span a style=\"color:blue\">**Odinary differential equations (ODEs)** </span>\n",
    ">\n",
    "><span a style=\"color:green\">**Gillespie Algorithm** </span>\n",
    "> *****\n",
    "><span a style=\"color:blue\">**Concentration of molecules** </span>\n",
    ">\n",
    "><span a style=\"color:green\">**Number of molecules** </span>\n",
    "> *****\n",
    "><span a style=\"color:blue\">**Future is predictable given present knowledge** </span>\n",
    ">\n",
    "><span a style=\"color:green\">**Includes randomness: Every simulation is different** </span>\n",
    "> *****\n",
    "><span a style=\"color:blue\">**Good for a large number of molecules; qualitative analysis** </span>\n",
    ">\n",
    "><span a style=\"color:green\">**Better for simulating dynamics with small numbers of molecules** </span>\n",
    "> *****\n",
    "><span a style=\"color:blue\">**Represents** population **average** </span>\n",
    ">\n",
    "><span a style=\"color:green\">**Through a large number of simulations, average and variability can both be assessed** </span>"
   ]
  },
  {
   "cell_type": "markdown",
   "id": "3da3f91c-0f2a-4bc3-8bf1-25dc8fd4e51f",
   "metadata": {},
   "source": [
    "### This brings therefore to deal with **distributions** instead of single values.\n",
    "\n",
    "The <span style=\"color:blueviolet\">**shape** </span> of any distribution can be described by its various ‘moments’. The first four are:\n",
    "\n",
    ">1) The **mean**, which indicates the central tendency of a distribution.\n",
    ">\n",
    ">2) The second moment is the **variance**, which indicates the width and equals the square of the ‘standard deviation’.\n",
    ">\n",
    ">3) The third moment is the **skewness**, which indicates any asymmetric ‘leaning’ to either left or right.\n",
    ">\n",
    ">4) The fourth moment is the **Kurtosis**, which indicates the ‘fatness’ of the outer tails.\n",
    "\n",
    "<span style=\"color:blueviolet\">**How we can quantify the variability from a distribution!?** </span>\n",
    "\n",
    "One way to measure the dispersion of a probability distribution is the **Fano factor:**\n",
    "\n",
    "$$ F = \\frac{\\sigma^2}{\\mu} $$\n",
    "\n",
    "\n"
   ]
  },
  {
   "cell_type": "markdown",
   "id": "fffa4c24-79b0-4c32-950e-6c68d1a2ec90",
   "metadata": {},
   "source": [
    "###  Let's calculate some of these **moments** of a known theoretical distribution: [Poisson](https://en.wikipedia.org/wiki/Poisson_distribution) <a class=\"anchor\" id=\"section_1_4\"></a>\n",
    "\n",
    "<span style=\"color:blueviolet\">**np.random.poisson( )** </span> is a function that enables you to sample **random** numbers in accordance with a Poisson distribution. \n",
    "\n",
    "- <span style=\"color:blueviolet\">**use** </span> 3 lambdas, to produce 3 \"datasets\" (if lam=10 the distribution will have average 10)\n",
    "\n",
    "- <span style=\"color:blueviolet\">**calculate**</span> **mean**, **variance** using <span style=\"color:blueviolet\">**np( )**</span> function and **Fano** doing the formula, **print** the result! (see below the example)"
   ]
  },
  {
   "cell_type": "code",
   "execution_count": 34,
   "id": "2a48a8f6-c2a4-44b5-bb64-b6fb8e333773",
   "metadata": {},
   "outputs": [],
   "source": [
    "# Fill in the function below three different lambda(s) e.g. 10,100,1000\n",
    "N_Cells = 10000 \n",
    "\n",
    "Poisson_Dataset_1 = np.random.poisson(lam= , size= N_Cells)\n",
    "Poisson_Dataset_2 = np.random.poisson(lam= , size= N_Cells)\n",
    "Poisson_Dataset_3 = np.random.poisson(lam= , size= N_Cells)"
   ]
  },
  {
   "cell_type": "code",
   "execution_count": 35,
   "id": "74be92f4-c9dc-471c-b1da-e63f41c39882",
   "metadata": {},
   "outputs": [],
   "source": [
    "Distr_dict = {'Dataset 1':Poisson_Dataset_1,\n",
    "              'Dataset 2':Poisson_Dataset_2,\n",
    "              'Dataset 3':Poisson_Dataset_3}"
   ]
  },
  {
   "cell_type": "markdown",
   "id": "af8d5d1c-3580-4c8b-bdb3-86cf84b1c8c5",
   "metadata": {},
   "source": [
    "### Let us Plot the distributions!"
   ]
  },
  {
   "cell_type": "code",
   "execution_count": null,
   "id": "f7663404-7327-4455-9991-9271d63547cf",
   "metadata": {},
   "outputs": [],
   "source": [
    "fig, axs = plt.subplots(1, 3,figsize=(12,3),constrained_layout=True, dpi=300)\n",
    "axs = axs.ravel()\n",
    "\n",
    "for ix, (k, v) in enumerate(Distr_dict.items()):\n",
    "    \n",
    "    sns.kdeplot( v, color = 'black', ax = axs[ix]);\n",
    "    sns.histplot(v, color = 'black', stat='probability', bins = pt.hist_bins(v), alpha = 0.2, ax = axs[ix])\n",
    "\n",
    "    axs[ix].set_title('mRNA'+'(' + k + ')',fontsize=12);\n",
    "    axs[ix].set_ylabel(\"P(mRNA)\"), axs[ix].set_xlabel(\"# mRNA\");"
   ]
  },
  {
   "cell_type": "code",
   "execution_count": null,
   "id": "8689bde9-3a7a-46c3-a53d-6d401d955d91",
   "metadata": {},
   "outputs": [],
   "source": [
    "mean1 = np.mean(Poisson_Dataset_1).round()\n",
    "mean2 = \n",
    "mean3 = \n",
    "print('Mean 1:{}'.format(mean1))\n",
    "print('Mean 2:{}'.format(mean2))\n",
    "print('Mean 3:{}'.format(mean3))"
   ]
  },
  {
   "cell_type": "code",
   "execution_count": 38,
   "id": "330b54c5-8055-4ad4-9d50-6ffa91a6d974",
   "metadata": {},
   "outputs": [],
   "source": [
    "var1 = np.var(Poisson_Dataset_1).round()\n",
    "var2 = \n",
    "var3 = "
   ]
  },
  {
   "cell_type": "code",
   "execution_count": 73,
   "id": "d98d0ece-a1f1-49f9-9020-16c5781a847e",
   "metadata": {},
   "outputs": [],
   "source": [
    "# See the formula above and compute and print the Fano factor\n",
    "fano1 = \n",
    "fano2 = \n",
    "fano3 = "
   ]
  },
  {
   "cell_type": "markdown",
   "id": "0796c7f1-1b11-41ec-9f47-50e583a7503b",
   "metadata": {},
   "source": [
    "#### Let's make a table with your results."
   ]
  },
  {
   "cell_type": "code",
   "execution_count": 40,
   "id": "44ce8fac-7239-4d3e-9223-b2496d77a8e2",
   "metadata": {},
   "outputs": [
    {
     "data": {
      "text/html": [
       "<div>\n",
       "<style scoped>\n",
       "    .dataframe tbody tr th:only-of-type {\n",
       "        vertical-align: middle;\n",
       "    }\n",
       "\n",
       "    .dataframe tbody tr th {\n",
       "        vertical-align: top;\n",
       "    }\n",
       "\n",
       "    .dataframe thead th {\n",
       "        text-align: right;\n",
       "    }\n",
       "</style>\n",
       "<table border=\"1\" class=\"dataframe\">\n",
       "  <thead>\n",
       "    <tr style=\"text-align: right;\">\n",
       "      <th></th>\n",
       "      <th>Mean</th>\n",
       "      <th>Fano</th>\n",
       "      <th>Variance</th>\n",
       "    </tr>\n",
       "  </thead>\n",
       "  <tbody>\n",
       "    <tr>\n",
       "      <th>0</th>\n",
       "      <td>10.0</td>\n",
       "      <td>1</td>\n",
       "      <td>9.0</td>\n",
       "    </tr>\n",
       "    <tr>\n",
       "      <th>1</th>\n",
       "      <td>2.0</td>\n",
       "      <td>1</td>\n",
       "      <td>1.0</td>\n",
       "    </tr>\n",
       "    <tr>\n",
       "      <th>2</th>\n",
       "      <td>3.0</td>\n",
       "      <td>1</td>\n",
       "      <td>1.0</td>\n",
       "    </tr>\n",
       "  </tbody>\n",
       "</table>\n",
       "</div>"
      ],
      "text/plain": [
       "   Mean  Fano  Variance\n",
       "0  10.0     1       9.0\n",
       "1   2.0     1       1.0\n",
       "2   3.0     1       1.0"
      ]
     },
     "metadata": {},
     "output_type": "display_data"
    }
   ],
   "source": [
    "table = pd.DataFrame({'Mean'    : [mean1,mean2,mean3],\n",
    "                      'Fano'    : [fano1, fano2, fano3],\n",
    "                      'Variance': [var1, var2,var3]})\n",
    "\n",
    "display(table)"
   ]
  },
  {
   "cell_type": "markdown",
   "id": "191c76ff-6eda-4795-90af-8d2c6d5f30da",
   "metadata": {},
   "source": [
    "> 1. Does the mean correspond with the **lambda** that you predefined?\n",
    "> 2. Does the Fano factor change with the mean?"
   ]
  },
  {
   "cell_type": "code",
   "execution_count": null,
   "id": "dc470b8b-11c2-4dc1-b730-c839af7a97d4",
   "metadata": {},
   "outputs": [],
   "source": [
    "x = table['Mean']\n",
    "y = table['Fano']\n",
    "\n",
    "plt.figure(figsize=(6,3),dpi=100)\n",
    "plt.plot(x,y,'-')\n",
    "plt.xlabel('mean')\n",
    "plt.ylabel('Fano');"
   ]
  },
  {
   "cell_type": "markdown",
   "id": "8546eac1-4e32-420f-8dc9-27ff86cb6c16",
   "metadata": {},
   "source": [
    "### Things you should remember of the Poisson Distribution.<a class=\"anchor\" id=\"section_1_5\"></a>\n",
    "\n",
    ">1. Poisson distribution is represent the **_minimal thermodynamic noise_** of a molecular system.\n",
    ">\n",
    ">2. Its mean and variance are identical, therefore **Fano factor is 1**.\n",
    ">\n",
    ">3. When the fluctuation around the average value is Poisson or very small the Deterministic prediction is a good approximation of the average of the stochastic.\n",
    ">\n",
    ">4. When the averages are really low the relative fluctuation can be gigantic, even for Poisson\n",
    "(0.01 mRNA per cell) \n"
   ]
  },
  {
   "cell_type": "markdown",
   "id": "7f3b28e1-8770-49d3-bc2b-57036d505618",
   "metadata": {},
   "source": [
    "<img src=\"Figures/FanoFactor_Distributions.png\"  style=\"width: 200px;float: right;\"/>\n",
    "\n",
    "## Everything is stochastic, but what are the stochastic events that really matter? <a class=\"anchor\" id=\"section_2_1\"></a>\n",
    "\n",
    "Genetically identical cells (**isogenic population**) in an identical environment behave differently, leading to significant consequences in many biological process from bacterial bet-hadging to mammalian decision-making and development.\n",
    "\n",
    "Every molecular event in the cell is the result of **random** encounters between molecules, \n",
    "some of which are present in **small numbers**, therefore all biochemical processes also the one that regulate transcription initiation are inherently **highly stochastic**.\n",
    "\n",
    "A well-known potential source of this cell-to-cell variability is a noisy messenger RNA production (at numbers higher than 1 per event), which is the so-called **‘transcription bursting’**, and this mechanism has been widely studied by theoretical and experimental approaches. \n",
    "\n",
    "Transcriptional bursting can be explained by a **two-state model** of gene regulation, where a gene switches between on and off states.\n"
   ]
  },
  {
   "cell_type": "markdown",
   "id": "52ffc1a8-0f94-43cd-9e41-5b5b5a170a76",
   "metadata": {},
   "source": [
    "###  To better appriciate the added value of stochastic simulations \n",
    "#### We will a simulate **minimal model** for bursty trasncription in both a <span style=\"color:red\">**deterministic** </span> & a <span style=\"color:red\">**stochastic** </span> mathematical model.\n",
    "<img src=\"Figures/minimal_burst_model.png\" alt=\"Drawing\" style=\"width: 500px;\"/> \n",
    "\n",
    "> \n",
    "**This model has just 3 parameters!** \n",
    "> "
   ]
  },
  {
   "cell_type": "markdown",
   "id": "f38736b9-418b-4097-afe5-2120046af241",
   "metadata": {},
   "source": [
    "## Let us start with a <span style=\"color:red\">deterministic </span> model. <a class=\"anchor\" id=\"section_2_2\"></a>\n",
    "<img src=\"Figures/average_mRNA.png\" alt=\"Drawing\" style=\"width: 400px;\"/> \n",
    "\n",
    "<span style=\"color:blueviolet\">**Solve** </span> the equation above and <span style=\"color:blueviolet\">**calculate analytically** </span> the **average** number of mRNA at steady state for the following cases:\n",
    "  * Dataset 1 --> k_burst = 50,k_deg = 1,   burst_size = 1\n",
    "  * Dataset 2 --> k_burst = 10,k_deg = 0.1, burst_size = 1\n",
    "  * Dataset 3 --> k_burst = 4,k_deg = 1, burst_size = 50"
   ]
  },
  {
   "cell_type": "code",
   "execution_count": null,
   "id": "6d8a1a4f-84a4-4989-addc-358216f07224",
   "metadata": {},
   "outputs": [],
   "source": [
    "# e.g. aver = (50 * 1)/1"
   ]
  },
  {
   "cell_type": "code",
   "execution_count": null,
   "id": "edc70e7b-f1a6-45a0-8d9b-9dad0fab9169",
   "metadata": {},
   "outputs": [],
   "source": [
    "## Calculate and print!\n",
    "\n",
    "aver_1 =   # here you calculate e.g. (100*1)/0.1\n",
    "aver_2 =   # here you calculate\n",
    "aver_3 =   # here you calculate\n",
    "\n",
    "aver_list = [aver_1,aver_2,aver_3]\n",
    "\n",
    "for i,a in enumerate(aver_list):\n",
    "    print('average {}: {}'.format(i+1,a))"
   ]
  },
  {
   "cell_type": "markdown",
   "id": "24f8d64a-b8de-4c39-b570-945e76d82ea4",
   "metadata": {},
   "source": [
    "### Now for the same set of parameters: <a class=\"anchor\" id=\"section_2_3\"></a>\n",
    "\n",
    "We will <span style=\"color:blueviolet\">**calculate numerically** </span> the **average** number of mRNA at steady state for the following cases:\n",
    "\n",
    "\n",
    "  \n",
    "><span style=\"color:blueviolet\">**ODE_Plot( )** </span> is a function that contains **odeint()** which **integrates** a system of ordinary differential equations and then plots the results.\n",
    "- <span style=\"color:blueviolet\">**change** </span> the **parameters** in the following command cell;\n",
    "- <span style=\"color:blueviolet\">****check**** </span> if the **analystical solution** agrees with the **numerical** one!"
   ]
  },
  {
   "cell_type": "code",
   "execution_count": null,
   "id": "0c1da388-de60-4b61-8ff0-fc402e7f9c00",
   "metadata": {},
   "outputs": [],
   "source": [
    "Dataset_1 = {'k_burst': ,\n",
    "             'k_deg'  : ,\n",
    "             'burst_size' : }\n",
    "\n",
    "Dataset_2 = {'k_burst': ,\n",
    "             'k_deg'  : ,\n",
    "             'burst_size' : }\n",
    "\n",
    "Dataset_3 = {'k_burst': ,\n",
    "             'k_deg'  : ,\n",
    "             'burst_size' : }\n",
    "\n",
    "\n",
    "Datasets_param = {'Dataset_1':Dataset_1,\n",
    "                  'Dataset_2':Dataset_2,\n",
    "                  'Dataset_3':Dataset_3}\n",
    "\n",
    "Datasets_param"
   ]
  },
  {
   "cell_type": "code",
   "execution_count": null,
   "id": "82049443-07c6-42e9-93bd-c54b4ad55632",
   "metadata": {},
   "outputs": [],
   "source": [
    "for param in Datasets_param.keys():\n",
    "    \n",
    "    k_burst    = Datasets_param[param]['k_burst']\n",
    "    burst_size = Datasets_param[param]['k_deg']\n",
    "    k_deg      = Datasets_param[param]['burst_size']\n",
    "      \n",
    "    pt.ODE_Plot(k_burst,burst_size,k_deg)"
   ]
  },
  {
   "cell_type": "markdown",
   "id": "570fc675-ebf4-4442-b7f8-0dc66785ca2d",
   "metadata": {},
   "source": [
    "## And now the <span style=\"color:red\">stochastic </span> counterpart. <a class=\"anchor\" id=\"section_2_4\"></a>\n",
    "\n",
    "#### To do this we need to implement the [Gillespie algorithm](https://en.wikipedia.org/wiki/Gillespie_algorithm),  which is a Stochastic Simulation Algorithm (SSA).\n",
    "\n",
    ">It is used in probability theory to generate a statistically correct <span style=\"color:red\">trajectory </span>  (possible solution) of a stochastic equation. It was created by Joseph L. Doob and others (circa 1945), presented by Dan Gillespie in 1976, and popularized in 1977 in a [paper](https://pubs.acs.org/doi/abs/10.1021/j100540a008) where he uses it to simulate chemical or biochemical systems of reactions efficiently and accurately using limited computational power.\n",
    "\n",
    "<span style=\"color:red\">!!! Skip the following reading until the next box if you are already running out of time! </span>\n",
    "************\n",
    "\n",
    "#### Canonical steps of this algorithm are the following (math omitted):\n",
    "<span style=\"color:blueviolet\">**1.Initialization:** </span> \n",
    "\n",
    "Initialise the number of molecules in the system, reaction constants, and random number generators.\n",
    "\n",
    "<span style=\"color:blueviolet\">**2. Monte Carlo step:** </span>\n",
    "\n",
    "Generate **2 random numbers** to determine the next reaction to occur as well as the time interval. \n",
    "\n",
    ">The <span style=\"color:blueviolet\">**first** </span> random number is drawn from an **uniform distribution** (between 0-1).\n",
    ">\n",
    ">This will allow to choose which reaction will take place in each iteration (bursting or degradation?).\n",
    ">\n",
    ">**NB!** The probability of the degradation reaction to occur dependes on the number of substrate molecules.\n",
    ">\n",
    "> (If the number of mRNA molecules is ZERO also the Probability to degrade them is ZERO!)\n",
    ">\n",
    ">The <span style=\"color:blueviolet\">**second** </span> random number is drawn from an **exponential distribution** in which the parameter  **lambda** is the inverse of the SUM of the reaction propensities.\n",
    ">\n",
    ">The time interval is exponentially distributed.\n",
    "\n",
    "<span style=\"color:blueviolet\">**3. Update:** </span>\n",
    "\n",
    "Increase the time step by the random time generated in **Step 2**. Update the molecule count based on the reaction that occurred.\n",
    "\n",
    "<span style=\"color:blueviolet\">**4. Iterate:** </span>\n",
    "\n",
    "Go back to Step 2 unless the simulation time has been exceeded."
   ]
  },
  {
   "cell_type": "code",
   "execution_count": 48,
   "id": "68e32f0a-d8fc-455d-970d-0d36a3bfef63",
   "metadata": {},
   "outputs": [],
   "source": [
    "from utils.gillespie_time_average_function import *"
   ]
  },
  {
   "cell_type": "code",
   "execution_count": null,
   "id": "63b7b232-39d1-4d42-9128-f51544906a88",
   "metadata": {},
   "outputs": [],
   "source": [
    "# the output of this function are 2 lists: time_steps(time points) &  mRNA_trajectory (mRNA content for each of them)\n",
    "Distr_dict= {}\n",
    "\n",
    "for param in Datasets_param.keys():\n",
    "    \n",
    "    time_steps, mRNA_trajectory = gillespie_time_average(N_RUNS = 20000,\n",
    "                                                         k_burst = Datasets_param[param]['k_burst'], \n",
    "                                                         k_deg   = Datasets_param[param]['k_deg'], \n",
    "                                                         burst_size = Datasets_param[param]['burst_size']) \n",
    "    Distr_dict[param] = mRNA_trajectory[100:]\n",
    "    pt.Stoch_Plot(time_steps, mRNA_trajectory)"
   ]
  },
  {
   "cell_type": "markdown",
   "id": "c870049e-dbd8-43a3-b55e-df01375e2a6d",
   "metadata": {},
   "source": [
    "##### Once again check if the average in the plot correspond with your calculation and the deterministic simulation.\n",
    "\n",
    "##### N.B. For a normal Burst size of 50, the variation is enormous. --> which translates in an enormous diffrerence across the cell population \n",
    "\n",
    "> **Calculate** mean -  variance & Fano factor for the case in which **burst-size** equal 50 (Dataset 3)\n",
    "> **Check** the difference with Fano in a Poisson distribution..."
   ]
  },
  {
   "cell_type": "code",
   "execution_count": null,
   "id": "3f4374d0-a691-4880-bc85-66aaa3b4bc43",
   "metadata": {},
   "outputs": [],
   "source": [
    "mean = np.mean(Distr_dict['Dataset_3'])\n",
    "var  = \n",
    "fano =\n",
    "\n",
    "print(fano)"
   ]
  },
  {
   "cell_type": "markdown",
   "id": "0260b903-5559-452c-9901-0aadcbe83da0",
   "metadata": {},
   "source": [
    "#### Let us Plot the distributions!"
   ]
  },
  {
   "cell_type": "code",
   "execution_count": null,
   "id": "3c6e49a3-8722-4499-922d-6bb324f76400",
   "metadata": {},
   "outputs": [],
   "source": [
    "fig, axs = plt.subplots(1, 3,figsize=(12,3),constrained_layout=True, dpi=300)\n",
    "axs = axs.ravel()\n",
    "\n",
    "for ix, (k, v) in enumerate(Distr_dict.items()):\n",
    "    \n",
    "    sns.kdeplot( v, color = 'black', ax = axs[ix]);\n",
    "    sns.histplot(v, color = 'black', stat='probability', bins = pt.hist_bins(v), alpha = 0.2, ax = axs[ix])\n",
    "\n",
    "    axs[ix].title(['mRNA'+'(' + k + ')']);\n",
    "    axs[ix].set_ylabel(\"P(mRNA)\"), axs[ix].set_xlabel(\"# mRNA\");  "
   ]
  },
  {
   "cell_type": "markdown",
   "id": "acbebaa8-9dde-40ab-888a-c12a880e9778",
   "metadata": {},
   "source": [
    "### Take Home Message <a class=\"anchor\" id=\"section_2_5\"></a>\n",
    "<img src=\"Figures/Home_message.png\" style=\"width: 100px;\"/> \n",
    "\n",
    ">1. Genetic variability is not the only one to consider.\n",
    ">\n",
    ">2. Many relevant mRNAs in the cell have high variability in their expression.\n",
    ">\n",
    ">3. It's not difficult to model this!"
   ]
  },
  {
   "cell_type": "code",
   "execution_count": null,
   "id": "f8c819a4-d129-4733-ab0d-386bdbc9e134",
   "metadata": {},
   "outputs": [],
   "source": []
  }
 ],
 "metadata": {
  "kernelspec": {
   "display_name": "Python 3",
   "language": "python",
   "name": "python3"
  },
  "language_info": {
   "codemirror_mode": {
    "name": "ipython",
    "version": 3
   },
   "file_extension": ".py",
   "mimetype": "text/x-python",
   "name": "python",
   "nbconvert_exporter": "python",
   "pygments_lexer": "ipython3",
   "version": "3.9.2"
  }
 },
 "nbformat": 4,
 "nbformat_minor": 5
}
